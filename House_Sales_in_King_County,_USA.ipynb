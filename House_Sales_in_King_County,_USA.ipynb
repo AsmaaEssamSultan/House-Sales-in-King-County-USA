{
  "nbformat": 4,
  "nbformat_minor": 0,
  "metadata": {
    "colab": {
      "name": "House Sales in King County, USA.ipynb",
      "provenance": []
    },
    "kernelspec": {
      "name": "python3",
      "display_name": "Python 3"
    },
    "language_info": {
      "name": "python"
    }
  },
  "cells": [
    {
      "cell_type": "markdown",
      "metadata": {
        "id": "LIWdGFmSpwps"
      },
      "source": [
        "Link of the Data : [link](https://www.kaggle.com/harlfoxem/housesalesprediction)"
      ]
    },
    {
      "cell_type": "markdown",
      "metadata": {
        "id": "_RnLuR9uG5Mr"
      },
      "source": [
        **"Importing libraries"**
      ]
    },
    {
      "cell_type": "code",
      "metadata": {
        "id": "qdjWbi3Gf7DI"
      },
      "source": [
        "import numpy as np\n",
        "import pandas as pd\n",
        "import sklearn\n",
        "from sklearn.linear_model import LinearRegression\n",
        "from sklearn.model_selection import train_test_split\n",
        "from sklearn.metrics import mean_squared_error, mean_absolute_error\n",
        "import matplotlib.pyplot as plt\n",
        "%matplotlib inline"
      ],
      "execution_count": 1,
      "outputs": []
    },
    {
      "cell_type": "markdown",
      "metadata": {
        "id": "A-UO1DhGHB1x"
      },
      "source": [
        "Get the data"
      ]
    },
    {
      "cell_type": "code",
      "metadata": {
        "id": "zloDBof7oBZ3"
      },
      "source": [
        "data_frame = pd.read_csv('/content/drive/MyDrive/Colab Notebooks/kc_house_data.csv', sep=',', quotechar='\"')"
      ],
      "execution_count": 2,
      "outputs": []
    },
    {
      "cell_type": "code",
      "metadata": {
        "colab": {
          "base_uri": "https://localhost:8080/"
        },
        "id": "VrjSNmBynMAc",
        "outputId": "1393613a-9fdb-4005-a5fc-379107c57585"
      },
      "source": [
        "print(data_frame.shape)"
      ],
      "execution_count": 3,
      "outputs": [
        {
          "output_type": "stream",
          "text": [
            "(21613, 21)\n"
          ],
          "name": "stdout"
        }
      ]
    },
    {
      "cell_type": "code",
      "metadata": {
        "colab": {
          "base_uri": "https://localhost:8080/",
          "height": 224
        },
        "id": "OfDh5qmJonAw",
        "outputId": "ad929389-17dd-4398-9aac-7760f3b27410"
      },
      "source": [
        "data_frame.head()"
      ],
      "execution_count": 4,
      "outputs": [
        {
          "output_type": "execute_result",
          "data": {
            "text/html": [
              "<div>\n",
              "<style scoped>\n",
              "    .dataframe tbody tr th:only-of-type {\n",
              "        vertical-align: middle;\n",
              "    }\n",
              "\n",
              "    .dataframe tbody tr th {\n",
              "        vertical-align: top;\n",
              "    }\n",
              "\n",
              "    .dataframe thead th {\n",
              "        text-align: right;\n",
              "    }\n",
              "</style>\n",
              "<table border=\"1\" class=\"dataframe\">\n",
              "  <thead>\n",
              "    <tr style=\"text-align: right;\">\n",
              "      <th></th>\n",
              "      <th>id</th>\n",
              "      <th>date</th>\n",
              "      <th>price</th>\n",
              "      <th>bedrooms</th>\n",
              "      <th>bathrooms</th>\n",
              "      <th>sqft_living</th>\n",
              "      <th>sqft_lot</th>\n",
              "      <th>floors</th>\n",
              "      <th>waterfront</th>\n",
              "      <th>view</th>\n",
              "      <th>condition</th>\n",
              "      <th>grade</th>\n",
              "      <th>sqft_above</th>\n",
              "      <th>sqft_basement</th>\n",
              "      <th>yr_built</th>\n",
              "      <th>yr_renovated</th>\n",
              "      <th>zipcode</th>\n",
              "      <th>lat</th>\n",
              "      <th>long</th>\n",
              "      <th>sqft_living15</th>\n",
              "      <th>sqft_lot15</th>\n",
              "    </tr>\n",
              "  </thead>\n",
              "  <tbody>\n",
              "    <tr>\n",
              "      <th>0</th>\n",
              "      <td>7129300520</td>\n",
              "      <td>20141013T000000</td>\n",
              "      <td>221900.0</td>\n",
              "      <td>3</td>\n",
              "      <td>1.00</td>\n",
              "      <td>1180</td>\n",
              "      <td>5650</td>\n",
              "      <td>1.0</td>\n",
              "      <td>0</td>\n",
              "      <td>0</td>\n",
              "      <td>3</td>\n",
              "      <td>7</td>\n",
              "      <td>1180</td>\n",
              "      <td>0</td>\n",
              "      <td>1955</td>\n",
              "      <td>0</td>\n",
              "      <td>98178</td>\n",
              "      <td>47.5112</td>\n",
              "      <td>-122.257</td>\n",
              "      <td>1340</td>\n",
              "      <td>5650</td>\n",
              "    </tr>\n",
              "    <tr>\n",
              "      <th>1</th>\n",
              "      <td>6414100192</td>\n",
              "      <td>20141209T000000</td>\n",
              "      <td>538000.0</td>\n",
              "      <td>3</td>\n",
              "      <td>2.25</td>\n",
              "      <td>2570</td>\n",
              "      <td>7242</td>\n",
              "      <td>2.0</td>\n",
              "      <td>0</td>\n",
              "      <td>0</td>\n",
              "      <td>3</td>\n",
              "      <td>7</td>\n",
              "      <td>2170</td>\n",
              "      <td>400</td>\n",
              "      <td>1951</td>\n",
              "      <td>1991</td>\n",
              "      <td>98125</td>\n",
              "      <td>47.7210</td>\n",
              "      <td>-122.319</td>\n",
              "      <td>1690</td>\n",
              "      <td>7639</td>\n",
              "    </tr>\n",
              "    <tr>\n",
              "      <th>2</th>\n",
              "      <td>5631500400</td>\n",
              "      <td>20150225T000000</td>\n",
              "      <td>180000.0</td>\n",
              "      <td>2</td>\n",
              "      <td>1.00</td>\n",
              "      <td>770</td>\n",
              "      <td>10000</td>\n",
              "      <td>1.0</td>\n",
              "      <td>0</td>\n",
              "      <td>0</td>\n",
              "      <td>3</td>\n",
              "      <td>6</td>\n",
              "      <td>770</td>\n",
              "      <td>0</td>\n",
              "      <td>1933</td>\n",
              "      <td>0</td>\n",
              "      <td>98028</td>\n",
              "      <td>47.7379</td>\n",
              "      <td>-122.233</td>\n",
              "      <td>2720</td>\n",
              "      <td>8062</td>\n",
              "    </tr>\n",
              "    <tr>\n",
              "      <th>3</th>\n",
              "      <td>2487200875</td>\n",
              "      <td>20141209T000000</td>\n",
              "      <td>604000.0</td>\n",
              "      <td>4</td>\n",
              "      <td>3.00</td>\n",
              "      <td>1960</td>\n",
              "      <td>5000</td>\n",
              "      <td>1.0</td>\n",
              "      <td>0</td>\n",
              "      <td>0</td>\n",
              "      <td>5</td>\n",
              "      <td>7</td>\n",
              "      <td>1050</td>\n",
              "      <td>910</td>\n",
              "      <td>1965</td>\n",
              "      <td>0</td>\n",
              "      <td>98136</td>\n",
              "      <td>47.5208</td>\n",
              "      <td>-122.393</td>\n",
              "      <td>1360</td>\n",
              "      <td>5000</td>\n",
              "    </tr>\n",
              "    <tr>\n",
              "      <th>4</th>\n",
              "      <td>1954400510</td>\n",
              "      <td>20150218T000000</td>\n",
              "      <td>510000.0</td>\n",
              "      <td>3</td>\n",
              "      <td>2.00</td>\n",
              "      <td>1680</td>\n",
              "      <td>8080</td>\n",
              "      <td>1.0</td>\n",
              "      <td>0</td>\n",
              "      <td>0</td>\n",
              "      <td>3</td>\n",
              "      <td>8</td>\n",
              "      <td>1680</td>\n",
              "      <td>0</td>\n",
              "      <td>1987</td>\n",
              "      <td>0</td>\n",
              "      <td>98074</td>\n",
              "      <td>47.6168</td>\n",
              "      <td>-122.045</td>\n",
              "      <td>1800</td>\n",
              "      <td>7503</td>\n",
              "    </tr>\n",
              "  </tbody>\n",
              "</table>\n",
              "</div>"
            ],
            "text/plain": [
              "           id             date     price  ...     long  sqft_living15  sqft_lot15\n",
              "0  7129300520  20141013T000000  221900.0  ... -122.257           1340        5650\n",
              "1  6414100192  20141209T000000  538000.0  ... -122.319           1690        7639\n",
              "2  5631500400  20150225T000000  180000.0  ... -122.233           2720        8062\n",
              "3  2487200875  20141209T000000  604000.0  ... -122.393           1360        5000\n",
              "4  1954400510  20150218T000000  510000.0  ... -122.045           1800        7503\n",
              "\n",
              "[5 rows x 21 columns]"
            ]
          },
          "metadata": {
            "tags": []
          },
          "execution_count": 4
        }
      ]
    },
    {
      "cell_type": "code",
      "metadata": {
        "colab": {
          "base_uri": "https://localhost:8080/"
        },
        "id": "xhmmxTxd66VD",
        "outputId": "e4fe9686-62bd-446c-e0b0-b2af5bb9fc82"
      },
      "source": [
        "data_frame.info()"
      ],
      "execution_count": 5,
      "outputs": [
        {
          "output_type": "stream",
          "text": [
            "<class 'pandas.core.frame.DataFrame'>\n",
            "RangeIndex: 21613 entries, 0 to 21612\n",
            "Data columns (total 21 columns):\n",
            " #   Column         Non-Null Count  Dtype  \n",
            "---  ------         --------------  -----  \n",
            " 0   id             21613 non-null  int64  \n",
            " 1   date           21613 non-null  object \n",
            " 2   price          21613 non-null  float64\n",
            " 3   bedrooms       21613 non-null  int64  \n",
            " 4   bathrooms      21613 non-null  float64\n",
            " 5   sqft_living    21613 non-null  int64  \n",
            " 6   sqft_lot       21613 non-null  int64  \n",
            " 7   floors         21613 non-null  float64\n",
            " 8   waterfront     21613 non-null  int64  \n",
            " 9   view           21613 non-null  int64  \n",
            " 10  condition      21613 non-null  int64  \n",
            " 11  grade          21613 non-null  int64  \n",
            " 12  sqft_above     21613 non-null  int64  \n",
            " 13  sqft_basement  21613 non-null  int64  \n",
            " 14  yr_built       21613 non-null  int64  \n",
            " 15  yr_renovated   21613 non-null  int64  \n",
            " 16  zipcode        21613 non-null  int64  \n",
            " 17  lat            21613 non-null  float64\n",
            " 18  long           21613 non-null  float64\n",
            " 19  sqft_living15  21613 non-null  int64  \n",
            " 20  sqft_lot15     21613 non-null  int64  \n",
            "dtypes: float64(5), int64(15), object(1)\n",
            "memory usage: 3.5+ MB\n"
          ],
          "name": "stdout"
        }
      ]
    },
    {
      "cell_type": "markdown",
      "metadata": {
        "id": "BNMZdy14HfLl"
      },
      "source": [
        "Get the training features as X and the target label as Y"
      ]
    },
    {
      "cell_type": "code",
      "metadata": {
        "colab": {
          "base_uri": "https://localhost:8080/"
        },
        "id": "_hOED7u4pKd3",
        "outputId": "eb88748d-b464-4862-9b8f-65419d19b6ac"
      },
      "source": [
        "X = data_frame.drop(columns = ['id','price','date'], axis= 1)\n",
        "Y = data_frame['price']/10000\n",
        "print(X.shape)\n",
        "print(Y.shape)"
      ],
      "execution_count": 6,
      "outputs": [
        {
          "output_type": "stream",
          "text": [
            "(21613, 18)\n",
            "(21613,)\n"
          ],
          "name": "stdout"
        }
      ]
    },
    {
      "cell_type": "code",
      "metadata": {
        "colab": {
          "base_uri": "https://localhost:8080/",
          "height": 224
        },
        "id": "oUoJQcSLkevL",
        "outputId": "e51562e5-7a24-4fbe-c181-c0212159fbcd"
      },
      "source": [
        "X.head()"
      ],
      "execution_count": 7,
      "outputs": [
        {
          "output_type": "execute_result",
          "data": {
            "text/html": [
              "<div>\n",
              "<style scoped>\n",
              "    .dataframe tbody tr th:only-of-type {\n",
              "        vertical-align: middle;\n",
              "    }\n",
              "\n",
              "    .dataframe tbody tr th {\n",
              "        vertical-align: top;\n",
              "    }\n",
              "\n",
              "    .dataframe thead th {\n",
              "        text-align: right;\n",
              "    }\n",
              "</style>\n",
              "<table border=\"1\" class=\"dataframe\">\n",
              "  <thead>\n",
              "    <tr style=\"text-align: right;\">\n",
              "      <th></th>\n",
              "      <th>bedrooms</th>\n",
              "      <th>bathrooms</th>\n",
              "      <th>sqft_living</th>\n",
              "      <th>sqft_lot</th>\n",
              "      <th>floors</th>\n",
              "      <th>waterfront</th>\n",
              "      <th>view</th>\n",
              "      <th>condition</th>\n",
              "      <th>grade</th>\n",
              "      <th>sqft_above</th>\n",
              "      <th>sqft_basement</th>\n",
              "      <th>yr_built</th>\n",
              "      <th>yr_renovated</th>\n",
              "      <th>zipcode</th>\n",
              "      <th>lat</th>\n",
              "      <th>long</th>\n",
              "      <th>sqft_living15</th>\n",
              "      <th>sqft_lot15</th>\n",
              "    </tr>\n",
              "  </thead>\n",
              "  <tbody>\n",
              "    <tr>\n",
              "      <th>0</th>\n",
              "      <td>3</td>\n",
              "      <td>1.00</td>\n",
              "      <td>1180</td>\n",
              "      <td>5650</td>\n",
              "      <td>1.0</td>\n",
              "      <td>0</td>\n",
              "      <td>0</td>\n",
              "      <td>3</td>\n",
              "      <td>7</td>\n",
              "      <td>1180</td>\n",
              "      <td>0</td>\n",
              "      <td>1955</td>\n",
              "      <td>0</td>\n",
              "      <td>98178</td>\n",
              "      <td>47.5112</td>\n",
              "      <td>-122.257</td>\n",
              "      <td>1340</td>\n",
              "      <td>5650</td>\n",
              "    </tr>\n",
              "    <tr>\n",
              "      <th>1</th>\n",
              "      <td>3</td>\n",
              "      <td>2.25</td>\n",
              "      <td>2570</td>\n",
              "      <td>7242</td>\n",
              "      <td>2.0</td>\n",
              "      <td>0</td>\n",
              "      <td>0</td>\n",
              "      <td>3</td>\n",
              "      <td>7</td>\n",
              "      <td>2170</td>\n",
              "      <td>400</td>\n",
              "      <td>1951</td>\n",
              "      <td>1991</td>\n",
              "      <td>98125</td>\n",
              "      <td>47.7210</td>\n",
              "      <td>-122.319</td>\n",
              "      <td>1690</td>\n",
              "      <td>7639</td>\n",
              "    </tr>\n",
              "    <tr>\n",
              "      <th>2</th>\n",
              "      <td>2</td>\n",
              "      <td>1.00</td>\n",
              "      <td>770</td>\n",
              "      <td>10000</td>\n",
              "      <td>1.0</td>\n",
              "      <td>0</td>\n",
              "      <td>0</td>\n",
              "      <td>3</td>\n",
              "      <td>6</td>\n",
              "      <td>770</td>\n",
              "      <td>0</td>\n",
              "      <td>1933</td>\n",
              "      <td>0</td>\n",
              "      <td>98028</td>\n",
              "      <td>47.7379</td>\n",
              "      <td>-122.233</td>\n",
              "      <td>2720</td>\n",
              "      <td>8062</td>\n",
              "    </tr>\n",
              "    <tr>\n",
              "      <th>3</th>\n",
              "      <td>4</td>\n",
              "      <td>3.00</td>\n",
              "      <td>1960</td>\n",
              "      <td>5000</td>\n",
              "      <td>1.0</td>\n",
              "      <td>0</td>\n",
              "      <td>0</td>\n",
              "      <td>5</td>\n",
              "      <td>7</td>\n",
              "      <td>1050</td>\n",
              "      <td>910</td>\n",
              "      <td>1965</td>\n",
              "      <td>0</td>\n",
              "      <td>98136</td>\n",
              "      <td>47.5208</td>\n",
              "      <td>-122.393</td>\n",
              "      <td>1360</td>\n",
              "      <td>5000</td>\n",
              "    </tr>\n",
              "    <tr>\n",
              "      <th>4</th>\n",
              "      <td>3</td>\n",
              "      <td>2.00</td>\n",
              "      <td>1680</td>\n",
              "      <td>8080</td>\n",
              "      <td>1.0</td>\n",
              "      <td>0</td>\n",
              "      <td>0</td>\n",
              "      <td>3</td>\n",
              "      <td>8</td>\n",
              "      <td>1680</td>\n",
              "      <td>0</td>\n",
              "      <td>1987</td>\n",
              "      <td>0</td>\n",
              "      <td>98074</td>\n",
              "      <td>47.6168</td>\n",
              "      <td>-122.045</td>\n",
              "      <td>1800</td>\n",
              "      <td>7503</td>\n",
              "    </tr>\n",
              "  </tbody>\n",
              "</table>\n",
              "</div>"
            ],
            "text/plain": [
              "   bedrooms  bathrooms  sqft_living  ...     long  sqft_living15  sqft_lot15\n",
              "0         3       1.00         1180  ... -122.257           1340        5650\n",
              "1         3       2.25         2570  ... -122.319           1690        7639\n",
              "2         2       1.00          770  ... -122.233           2720        8062\n",
              "3         4       3.00         1960  ... -122.393           1360        5000\n",
              "4         3       2.00         1680  ... -122.045           1800        7503\n",
              "\n",
              "[5 rows x 18 columns]"
            ]
          },
          "metadata": {
            "tags": []
          },
          "execution_count": 7
        }
      ]
    },
    {
      "cell_type": "code",
      "metadata": {
        "colab": {
          "base_uri": "https://localhost:8080/"
        },
        "id": "nGCZ0P9ekgnp",
        "outputId": "18d025ba-dd17-4ec2-d280-dfda1c87d3fd"
      },
      "source": [
        "Y.head()"
      ],
      "execution_count": 8,
      "outputs": [
        {
          "output_type": "execute_result",
          "data": {
            "text/plain": [
              "0    22.19\n",
              "1    53.80\n",
              "2    18.00\n",
              "3    60.40\n",
              "4    51.00\n",
              "Name: price, dtype: float64"
            ]
          },
          "metadata": {
            "tags": []
          },
          "execution_count": 8
        }
      ]
    },
    {
      "cell_type": "markdown",
      "metadata": {
        "id": "7HcrBqs_IHqR"
      },
      "source": [
        "Split traning and test data"
      ]
    },
    {
      "cell_type": "code",
      "metadata": {
        "id": "7PeK_0mcqryq"
      },
      "source": [
        "X_train,X_test,Y_train,Y_test = train_test_split(X,Y,test_size = 0.3,random_state=0)"
      ],
      "execution_count": 9,
      "outputs": []
    },
    {
      "cell_type": "code",
      "metadata": {
        "colab": {
          "base_uri": "https://localhost:8080/"
        },
        "id": "jnkoP0XirDSf",
        "outputId": "840b6e34-8198-4331-e735-ed6ef21fbaa9"
      },
      "source": [
        "print(X_train.shape)\n",
        "print(Y_train.shape)\n",
        "print(X_test.shape)\n",
        "print(Y_test.shape)"
      ],
      "execution_count": 10,
      "outputs": [
        {
          "output_type": "stream",
          "text": [
            "(15129, 18)\n",
            "(15129,)\n",
            "(6484, 18)\n",
            "(6484,)\n"
          ],
          "name": "stdout"
        }
      ]
    },
    {
      "cell_type": "markdown",
      "metadata": {
        "id": "uFbQ-e0jlAS7"
      },
      "source": [
        "Relation between Features and Price"
      ]
    },
    {
      "cell_type": "code",
      "metadata": {
        "colab": {
          "base_uri": "https://localhost:8080/",
          "height": 336
        },
        "id": "0pfAcHLhYVV4",
        "outputId": "5b8ca36f-51d5-42d1-cdb6-8fdf4b4597e3"
      },
      "source": [
        "plt.figure(figsize=(14,5))\n",
        "plt.subplot(131)\n",
        "plt.bar(X_train['bedrooms'], Y_train)\n",
        "plt.xlabel('bedrooms')\n",
        "plt.subplot(132)\n",
        "plt.bar(X_train['bathrooms'], Y_train)\n",
        "plt.xlabel('bathrooms')\n",
        "plt.subplot(133)\n",
        "plt.bar(X_train['sqft_living'], Y_train)\n",
        "plt.xlabel('sqft_living')\n",
        "plt.show()"
      ],
      "execution_count": 11,
      "outputs": [
        {
          "output_type": "display_data",
          "data": {
            "image/png": "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\n",
            "text/plain": [
              "<Figure size 1008x360 with 3 Axes>"
            ]
          },
          "metadata": {
            "tags": [],
            "needs_background": "light"
          }
        }
      ]
    },
    {
      "cell_type": "code",
      "metadata": {
        "colab": {
          "base_uri": "https://localhost:8080/",
          "height": 336
        },
        "id": "dT5gCUPLJFPX",
        "outputId": "2e191eaa-ef11-43b5-9bad-ab03ec845da0"
      },
      "source": [
        "plt.figure(figsize=(14,5))\n",
        "plt.subplot(131)\n",
        "plt.bar(X_train['sqft_lot'], Y_train)\n",
        "plt.xlabel('sqft_lot')\n",
        "plt.subplot(132)\n",
        "plt.bar(X_train['floors'], Y_train)\n",
        "plt.xlabel('floors')\n",
        "plt.subplot(133)\n",
        "plt.bar(X_train['waterfront'], Y_train)\n",
        "plt.xlabel('waterfront')\n",
        "plt.show()\n"
      ],
      "execution_count": 12,
      "outputs": [
        {
          "output_type": "display_data",
          "data": {
            "image/png": "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\n",
            "text/plain": [
              "<Figure size 1008x360 with 3 Axes>"
            ]
          },
          "metadata": {
            "tags": [],
            "needs_background": "light"
          }
        }
      ]
    },
    {
      "cell_type": "code",
      "metadata": {
        "colab": {
          "base_uri": "https://localhost:8080/",
          "height": 335
        },
        "id": "fZzKp5bVRZMM",
        "outputId": "9b4d888f-f75f-4df6-e7f3-39a49ad7c8ce"
      },
      "source": [
        "plt.figure(figsize=(14,5))\n",
        "plt.subplot(131)\n",
        "plt.bar(X_train['view'], Y_train)\n",
        "plt.xlabel('view')\n",
        "plt.subplot(132)\n",
        "plt.bar(X_train['condition'], Y_train)\n",
        "plt.xlabel('condition')\n",
        "plt.subplot(133)\n",
        "plt.bar(X_train['grade'], Y_train)\n",
        "plt.xlabel('grade')\n",
        "plt.show()"
      ],
      "execution_count": 13,
      "outputs": [
        {
          "output_type": "display_data",
          "data": {
            "image/png": "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\n",
            "text/plain": [
              "<Figure size 1008x360 with 3 Axes>"
            ]
          },
          "metadata": {
            "tags": [],
            "needs_background": "light"
          }
        }
      ]
    },
    {
      "cell_type": "code",
      "metadata": {
        "colab": {
          "base_uri": "https://localhost:8080/",
          "height": 336
        },
        "id": "9BTnyxtCRosY",
        "outputId": "f711f260-ee34-4852-bdd1-edb7d5a5cfe3"
      },
      "source": [
        "plt.figure(figsize=(14,5))\n",
        "plt.subplot(131)\n",
        "plt.bar(X_train['sqft_above'], Y_train)\n",
        "plt.xlabel('sqft_above')\n",
        "plt.subplot(132)\n",
        "plt.bar(X_train['sqft_basement'], Y_train)\n",
        "plt.xlabel('sqft_basement')\n",
        "plt.subplot(133)\n",
        "plt.bar(X_train['yr_built'], Y_train)\n",
        "plt.xlabel('yr_built')\n",
        "plt.show()"
      ],
      "execution_count": 14,
      "outputs": [
        {
          "output_type": "display_data",
          "data": {
            "image/png": "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\n",
            "text/plain": [
              "<Figure size 1008x360 with 3 Axes>"
            ]
          },
          "metadata": {
            "tags": [],
            "needs_background": "light"
          }
        }
      ]
    },
    {
      "cell_type": "code",
      "metadata": {
        "colab": {
          "base_uri": "https://localhost:8080/",
          "height": 336
        },
        "id": "ciybrFo0aVxM",
        "outputId": "40c62512-1a72-4868-d9ab-83d8b432cd83"
      },
      "source": [
        "plt.figure(figsize=(14,5))\n",
        "plt.subplot(131)\n",
        "plt.bar(X_train['yr_renovated'], Y_train)\n",
        "plt.xlabel('yr_renovated')\n",
        "plt.subplot(132)\n",
        "plt.bar(X_train['zipcode'], Y_train)\n",
        "plt.xlabel('zipcode')\n",
        "plt.subplot(133)\n",
        "plt.bar(X_train['lat'], Y_train)\n",
        "plt.xlabel('lat')\n",
        "plt.show()"
      ],
      "execution_count": 15,
      "outputs": [
        {
          "output_type": "display_data",
          "data": {
            "image/png": "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\n",
            "text/plain": [
              "<Figure size 1008x360 with 3 Axes>"
            ]
          },
          "metadata": {
            "tags": [],
            "needs_background": "light"
          }
        }
      ]
    },
    {
      "cell_type": "code",
      "metadata": {
        "colab": {
          "base_uri": "https://localhost:8080/",
          "height": 336
        },
        "id": "kUyUvHzSKEeC",
        "outputId": "a12b00cc-a336-4b10-f581-509a33796eec"
      },
      "source": [
        "plt.figure(figsize=(14,5))\n",
        "plt.subplot(131)\n",
        "plt.bar(X_train['long'], Y_train)\n",
        "plt.xlabel('long')\n",
        "plt.subplot(132)\n",
        "plt.bar(X_train['sqft_living15'], Y_train)\n",
        "plt.xlabel('sqft_living15')\n",
        "plt.subplot(133)\n",
        "plt.bar(X_train['sqft_lot15'], Y_train)\n",
        "plt.xlabel('sqft_lot15')\n",
        "plt.show()"
      ],
      "execution_count": 16,
      "outputs": [
        {
          "output_type": "display_data",
          "data": {
            "image/png": "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\n",
            "text/plain": [
              "<Figure size 1008x360 with 3 Axes>"
            ]
          },
          "metadata": {
            "tags": [],
            "needs_background": "light"
          }
        }
      ]
    },
    {
      "cell_type": "markdown",
      "metadata": {
        "id": "4aQ1WwquIRXQ"
      },
      "source": [
        "Build Linear regression Model"
      ]
    },
    {
      "cell_type": "code",
      "metadata": {
        "id": "9nwjnkKvrOwO"
      },
      "source": [
        "linearReg_model = LinearRegression(normalize = True, copy_X= True)\n",
        "\n",
        "linearReg_model.fit(X_train,Y_train)\n",
        "\n",
        "Y_pred_linearReg_model = linearReg_model.predict(X_test)"
      ],
      "execution_count": 17,
      "outputs": []
    },
    {
      "cell_type": "markdown",
      "metadata": {
        "id": "0kW0zNY6IZZM"
      },
      "source": [
        "Evulate the Linear regression Model"
      ]
    },
    {
      "cell_type": "code",
      "metadata": {
        "colab": {
          "base_uri": "https://localhost:8080/"
        },
        "id": "D1NCQ84TsZCA",
        "outputId": "1541a7e5-ab9c-4908-ed32-f717402e409a"
      },
      "source": [
        "score_LinearRegTrain = linearReg_model.score(X_train,Y_train)\n",
        "\n",
        "score_LinearRegTest = linearReg_model.score(X_test,Y_test)\n",
        "\n",
        "print('R squared for training data =',score_LinearRegTrain)\n",
        "print('R squared for test data =',score_LinearRegTest)"
      ],
      "execution_count": 18,
      "outputs": [
        {
          "output_type": "stream",
          "text": [
            "R squared for training data = 0.7044808067489788\n",
            "R squared for test data = 0.6877902899299286\n"
          ],
          "name": "stdout"
        }
      ]
    },
    {
      "cell_type": "code",
      "metadata": {
        "colab": {
          "base_uri": "https://localhost:8080/"
        },
        "id": "t1pjmqwz4fBf",
        "outputId": "972517c9-dd5b-40f0-e8f2-192a12e59b86"
      },
      "source": [
        "Mean_square = mean_squared_error(Y_test, Y_pred_linearReg_model)\n",
        "print('Mean Squaed error =',Mean_square)"
      ],
      "execution_count": 19,
      "outputs": [
        {
          "output_type": "stream",
          "text": [
            "Mean Squaed error = 428.6388041546079\n"
          ],
          "name": "stdout"
        }
      ]
    },
    {
      "cell_type": "code",
      "metadata": {
        "colab": {
          "base_uri": "https://localhost:8080/"
        },
        "id": "HVGwBVHZ54Ya",
        "outputId": "23b03bd2-019a-4d63-879f-571532cbd398"
      },
      "source": [
        "Mean_absolute = mean_absolute_error(Y_test, Y_pred_linearReg_model)\n",
        "print('Mean absolute error =',Mean_absolute)"
      ],
      "execution_count": 20,
      "outputs": [
        {
          "output_type": "stream",
          "text": [
            "Mean absolute error = 12.403475533298433\n"
          ],
          "name": "stdout"
        }
      ]
    },
    {
      "cell_type": "markdown",
      "metadata": {
        "id": "KrGoRwt6Iw8f"
      },
      "source": [
        "Select important features Using SelectPercentile"
      ]
    },
    {
      "cell_type": "code",
      "metadata": {
        "id": "K7rmydHdA5Do"
      },
      "source": [
        "from sklearn.feature_selection import SelectPercentile\n",
        "from sklearn.feature_selection import f_classif"
      ],
      "execution_count": 21,
      "outputs": []
    },
    {
      "cell_type": "code",
      "metadata": {
        "id": "4JrJa_4LBdRM"
      },
      "source": [
        "feature_selection_Percentile = SelectPercentile(score_func = f_classif, percentile = 70 )\n",
        "X_Percentile = feature_selection_Percentile.fit_transform(X,Y)"
      ],
      "execution_count": 22,
      "outputs": []
    },
    {
      "cell_type": "code",
      "metadata": {
        "colab": {
          "base_uri": "https://localhost:8080/"
        },
        "id": "zz1Zrn7RB_p1",
        "outputId": "7e5c06b3-2112-49de-d9af-910003c32b7f"
      },
      "source": [
        "X_Percentile.shape"
      ],
      "execution_count": 23,
      "outputs": [
        {
          "output_type": "execute_result",
          "data": {
            "text/plain": [
              "(21613, 12)"
            ]
          },
          "metadata": {
            "tags": []
          },
          "execution_count": 23
        }
      ]
    },
    {
      "cell_type": "code",
      "metadata": {
        "colab": {
          "base_uri": "https://localhost:8080/"
        },
        "id": "-EqV0KUbCeLt",
        "outputId": "40d86647-9a60-4e29-9fa9-66b62d65ab2c"
      },
      "source": [
        "print(feature_selection_Percentile.get_support())"
      ],
      "execution_count": 24,
      "outputs": [
        {
          "output_type": "stream",
          "text": [
            "[ True  True  True False  True  True  True False  True  True  True False\n",
            "  True False  True False  True False]\n"
          ],
          "name": "stdout"
        }
      ]
    },
    {
      "cell_type": "code",
      "metadata": {
        "id": "PGFjmVONC3b9"
      },
      "source": [
        "X_train_Percentile,X_test_Percentile,Y_train_Percentile,Y_test_Percentile = train_test_split(X_Percentile,Y,test_size = 0.3,random_state=0)"
      ],
      "execution_count": 25,
      "outputs": []
    },
    {
      "cell_type": "code",
      "metadata": {
        "id": "OjXxlB4ADKhR"
      },
      "source": [
        "linearReg_model_Percentile = LinearRegression(normalize = True, copy_X= True)\n",
        "\n",
        "linearReg_model_Percentile.fit(X_train_Percentile,Y_train_Percentile)\n",
        "\n",
        "Y_pred_Percentile = linearReg_model_Percentile.predict(X_test_Percentile)"
      ],
      "execution_count": 26,
      "outputs": []
    },
    {
      "cell_type": "code",
      "metadata": {
        "colab": {
          "base_uri": "https://localhost:8080/"
        },
        "id": "9uOFwRCeDNaq",
        "outputId": "bbd8d1fd-a969-4bf0-a039-5ce156da1fcd"
      },
      "source": [
        "score_Train_Percentile = linearReg_model_Percentile.score(X_train_Percentile,Y_train_Percentile)\n",
        "\n",
        "score_Test_Percentile = linearReg_model_Percentile.score(X_test_Percentile,Y_test_Percentile)\n",
        "\n",
        "print('R squared for training data =',score_Train_Percentile)\n",
        "print('R squared for test data =',score_Test_Percentile)"
      ],
      "execution_count": 27,
      "outputs": [
        {
          "output_type": "stream",
          "text": [
            "R squared for training data = 0.6667138793945248\n",
            "R squared for test data = 0.6495000020045607\n"
          ],
          "name": "stdout"
        }
      ]
    },
    {
      "cell_type": "markdown",
      "metadata": {
        "id": "iZKvEUn7iM8W"
      },
      "source": [
        "Select important features Using SelectFromModel"
      ]
    },
    {
      "cell_type": "code",
      "metadata": {
        "id": "EeQvxv3datFt"
      },
      "source": [
        "from sklearn.feature_selection import SelectFromModel"
      ],
      "execution_count": 28,
      "outputs": []
    },
    {
      "cell_type": "code",
      "metadata": {
        "id": "ETaU_Kl5diej"
      },
      "source": [
        "feature_selection_FromModel = SelectFromModel(estimator= linearReg_model)\n",
        "X_FromModel = feature_selection_FromModel.fit_transform(X,Y)"
      ],
      "execution_count": 29,
      "outputs": []
    },
    {
      "cell_type": "code",
      "metadata": {
        "colab": {
          "base_uri": "https://localhost:8080/"
        },
        "id": "PwrB5aa-iULY",
        "outputId": "591d3934-0431-4d2f-a151-2e6c01e003d2"
      },
      "source": [
        "X_FromModel.shape"
      ],
      "execution_count": 30,
      "outputs": [
        {
          "output_type": "execute_result",
          "data": {
            "text/plain": [
              "(21613, 4)"
            ]
          },
          "metadata": {
            "tags": []
          },
          "execution_count": 30
        }
      ]
    },
    {
      "cell_type": "code",
      "metadata": {
        "colab": {
          "base_uri": "https://localhost:8080/"
        },
        "id": "vn6sMbRLiwpD",
        "outputId": "c0e8e9e4-f0d2-4c8e-e4ae-6ffb57c719aa"
      },
      "source": [
        "print(feature_selection_FromModel.get_support())"
      ],
      "execution_count": 31,
      "outputs": [
        {
          "output_type": "stream",
          "text": [
            "[False False False False False  True False False  True False False False\n",
            " False False  True  True False False]\n"
          ],
          "name": "stdout"
        }
      ]
    },
    {
      "cell_type": "code",
      "metadata": {
        "id": "DLP3lpw6i3Ix"
      },
      "source": [
        "X_train_FModel, X_test_FModel, Y_train_FModel, Y_test_FModel = train_test_split(X_FromModel,Y,test_size = 0.3,random_state=0)"
      ],
      "execution_count": 32,
      "outputs": []
    },
    {
      "cell_type": "code",
      "metadata": {
        "id": "ZYoPJ8NmjYKP"
      },
      "source": [
        "linearReg_model_FModel = LinearRegression(normalize = True, copy_X= True)\n",
        "\n",
        "linearReg_model_FModel.fit(X_train_FModel ,Y_train_FModel )\n",
        "\n",
        "Y_pred_FModel = linearReg_model_FModel.predict(X_test_FModel )"
      ],
      "execution_count": 33,
      "outputs": []
    },
    {
      "cell_type": "code",
      "metadata": {
        "colab": {
          "base_uri": "https://localhost:8080/"
        },
        "id": "F2vc5FJWjqO3",
        "outputId": "03005673-ee25-4e58-b4c8-2edb1ebaec0c"
      },
      "source": [
        "score_Train_FModel = linearReg_model_FModel.score(X_train_FModel,Y_train_FModel)\n",
        "\n",
        "score_Test_FModel = linearReg_model_FModel.score(X_test_FModel,Y_test_FModel)\n",
        "\n",
        "print('R squared for training data =',score_Train_FModel)\n",
        "print('R squared for test data =',score_Test_FModel)"
      ],
      "execution_count": 34,
      "outputs": [
        {
          "output_type": "stream",
          "text": [
            "R squared for training data = 0.5561395513542937\n",
            "R squared for test data = 0.53804007834184\n"
          ],
          "name": "stdout"
        }
      ]
    }
  ]
}
